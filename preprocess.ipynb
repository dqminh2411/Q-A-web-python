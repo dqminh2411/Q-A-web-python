{
  "nbformat": 4,
  "nbformat_minor": 0,
  "metadata": {
    "colab": {
      "provenance": [],
      "mount_file_id": "1qC9buFSw70VCd2zzg8AyBYSIRW-BPkAJ",
      "authorship_tag": "ABX9TyMljnMqGPUqpbzZVlI2PdjT",
      "include_colab_link": true
    },
    "kernelspec": {
      "name": "python3",
      "display_name": "Python 3"
    },
    "language_info": {
      "name": "python"
    }
  },
  "cells": [
    {
      "cell_type": "markdown",
      "metadata": {
        "id": "view-in-github",
        "colab_type": "text"
      },
      "source": [
        "<a href=\"https://colab.research.google.com/github/dqminh2411/Q-A-web-python/blob/master/preprocess.ipynb\" target=\"_parent\"><img src=\"https://colab.research.google.com/assets/colab-badge.svg\" alt=\"Open In Colab\"/></a>"
      ]
    },
    {
      "cell_type": "code",
      "execution_count": null,
      "metadata": {
        "colab": {
          "base_uri": "https://localhost:8080/"
        },
        "id": "KSODCcoV_edU",
        "outputId": "fc8afefe-0902-4483-a954-66b787391ef9"
      },
      "outputs": [
        {
          "output_type": "stream",
          "name": "stdout",
          "text": [
            "/content/drive/MyDrive/AI Project\n",
            "<class 'pandas.core.frame.DataFrame'>\n",
            "Index: 1157 entries, 0 to 1158\n",
            "Data columns (total 2 columns):\n",
            " #   Column  Non-Null Count  Dtype \n",
            "---  ------  --------------  ----- \n",
            " 0   type    1157 non-null   object\n",
            " 1   text    1157 non-null   object\n",
            "dtypes: object(2)\n",
            "memory usage: 27.1+ KB\n",
            "None\n",
            "<class 'pandas.core.frame.DataFrame'>\n",
            "Index: 1091 entries, 0 to 1158\n",
            "Data columns (total 2 columns):\n",
            " #   Column  Non-Null Count  Dtype \n",
            "---  ------  --------------  ----- \n",
            " 0   type    1091 non-null   object\n",
            " 1   text    1091 non-null   object\n",
            "dtypes: object(2)\n",
            "memory usage: 25.6+ KB\n",
            "None\n",
            "0                                                                          free entry in wkly comp to win fa cup final tkts st may text fa to to receive entry question std txt rate apply over\n",
            "1                                                               freemsg hey there darling it been week now and no word back like some fun you up for it still tb ok xxx std chgs to send to rcv\n",
            "2                                                                                                                   even my brother is not like to speak with me they treat me like aids patent\n",
            "3                                      as per your request melle melle oru minnaminunginte nurungu vettam has been set as your callertune for all callers press to copy your friends callertune\n",
            "4                                                                winner as valued network customer you have been selected to receivea prize reward to claim call claim code kl valid hours only\n",
            "5                                                         had your mobile months or more entitled to update to the latest colour mobiles with camera for free call the mobile update co free on\n",
            "6                                                                                                gonna be home soon and don want to talk about this stuff anymore tonight ve cried enough today\n",
            "7                                                                                          six chances to win cash from to pounds txt csh and send to cost day days tsandcs apply reply hl info\n",
            "8                                                                      urgent you have won week free membership in our prize jackpot txt the word claim to no www dbuk net lccltd pobox ldnw rw\n",
            "9     ve been searching for the right words to thank you for this breather promise wont take your help for granted and will fulfil my promise you have been wonderful and blessing at all times\n",
            "10                                                                                                                                                                have date on sunday with will\n",
            "11                                                          xxxmobilemovieclub to use your credit click the wap link in the next txt message or click here xxxmobilemovieclub com qjkgighjjgcbl\n",
            "12                                                                      england macedonia dont miss the goals team news txt ur national team to eg england to try wales scotland txt poboxox wq\n",
            "13                                   thanks for your subscription to ringtone uk your mobile will be charged month please confirm by replying yes or no if you reply no you will not be charged\n",
            "14                                                    rodger burns msg we tried to call you re your reply to our sms for free nokia mobile free camcorder please call now for delivery tomorrow\n",
            "15                                                                          sms ac sptv the new jersey devils and the detroit red wings play ice hockey correct or incorrect end reply end sptv\n",
            "16                                                                                                                       do you know what mallika sherawat did yesterday find out now lt url gt\n",
            "17                                                                       congrats year special cinema pass for is yours call now suprman matrix starwars etc all free bx ip we pm dont miss out\n",
            "18                                                                as valued customer am pleased to advise you that following recent review of your mob no you are awarded with bonus prize call\n",
            "19                                                                             today is song dedicated day which song will dedicate for me send this to all ur valuable frnds but first rply me\n",
            "Name: cleaned, dtype: object\n"
          ]
        }
      ],
      "source": [
        "import pandas as pd\n",
        "import numpy as np\n",
        "import re\n",
        "import os\n",
        "# kiểm tra thư mục hiện tại của máy google colab\n",
        "print(os.getcwd())\n",
        "# di chuyển đến thư mục google drive chứa preprocess.ipynb: /content/drive/tên_drive/tên_thư_mục\n",
        "os.chdir('/content/drive/MyDrive/AI Project')\n",
        "\n",
        "#hiển thị toàn bộ dữ liệu các cột\n",
        "pd.set_option('display.max_colwidth', None)\n",
        "\n",
        "# read data\n",
        "dataOri = pd.read_csv('dataset.csv')\n",
        "data = dataOri.copy()\n",
        "# preprocess\n",
        "# bước 1: xử lý dữ liệu bị thiếu\n",
        "# xoá các hàng có dữ liệu bị thiếu\n",
        "data = data.dropna(subset=['type', 'text'])\n",
        "print(data.info())\n",
        "\n",
        "# bước 2: loại bỏ dữ liệu lặp\n",
        "data = data.drop_duplicates(subset=['text'])\n",
        "print(data.info())\n",
        "\n",
        "# step 3: làm sạch dữ liệu\n",
        "def clean_email(text):\n",
        "    # đưa về viết thường\n",
        "    text = text.lower()\n",
        "    # xoá url\n",
        "    text = re.sub(r\"http\\S+\", \"\", text)\n",
        "\n",
        "    # tách riêng các từ chứa số\n",
        "\n",
        "    words = text.split()\n",
        "    word_splits = []\n",
        "    for word in words:\n",
        "        parts = re.findall(r'[a-z]+|\\d+', word)\n",
        "        word_splits.extend(parts)\n",
        "    text = ' '.join(word_splits)\n",
        "\n",
        "    # xoá các số\n",
        "    text = re.sub(r\"\\d+\", \"\", text)\n",
        "\n",
        "    #loại bỏ chữ cái đứng 1 mình\n",
        "    words = text.split()\n",
        "    arr = []\n",
        "    for word in words:\n",
        "      if len(word) >= 2:\n",
        "        arr.append(word)\n",
        "    text = ' '.join(arr)\n",
        "\n",
        "    # xoá dấu câu .!;,\n",
        "\n",
        "    text = re.sub(r\"[^\\w\\s]\", \"\", text)\n",
        "    return text\n",
        "\n",
        "data['cleaned'] = data['text'].apply(clean_email)\n",
        "\n",
        "# bước 4: loại bỏ dữ liệu lặp 1 lần nữa\n",
        "data = data.drop_duplicates(subset=['text'])\n",
        "# when i print data which is too long, it appears as abc.... how to view fulltext\n",
        "\n",
        "print(data.head(20)['cleaned'])\n",
        "\n"
      ]
    }
  ]
}